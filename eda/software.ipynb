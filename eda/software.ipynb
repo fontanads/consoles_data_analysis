{
 "cells": [
  {
   "cell_type": "code",
   "execution_count": 1,
   "metadata": {},
   "outputs": [],
   "source": [
    "import pandas as pd\n",
    "import altair as alt\n",
    "import os"
   ]
  },
  {
   "cell_type": "code",
   "execution_count": 2,
   "metadata": {},
   "outputs": [
    {
     "data": {
      "text/plain": [
       "['nintendo_hardware_totals_by_date.csv',\n",
       " 'nintendo_software_totals_by_date.csv']"
      ]
     },
     "execution_count": 2,
     "metadata": {},
     "output_type": "execute_result"
    }
   ],
   "source": [
    "# read nintendo software and hardware sales data\n",
    "processed_data_path = os.path.join(\"..\", \"data\", \"processed\")\n",
    "files = sorted([f for f in os.listdir(processed_data_path) if \"nintendo\" in f])\n",
    "files"
   ]
  },
  {
   "cell_type": "code",
   "execution_count": 3,
   "metadata": {},
   "outputs": [],
   "source": [
    "hardware = pd.read_csv(os.path.join(processed_data_path, files[0]))\n",
    "software = pd.read_csv(os.path.join(processed_data_path, files[1]))\n"
   ]
  },
  {
   "cell_type": "code",
   "execution_count": 4,
   "metadata": {},
   "outputs": [
    {
     "data": {
      "text/plain": [
       "{'3DS', 'DS', 'Gamecube', 'Switch', 'Wii', 'Wii U'}"
      ]
     },
     "execution_count": 4,
     "metadata": {},
     "output_type": "execute_result"
    }
   ],
   "source": [
    "set(software[\"Group\"])"
   ]
  },
  {
   "cell_type": "code",
   "execution_count": 5,
   "metadata": {},
   "outputs": [
    {
     "data": {
      "text/plain": [
       "{'2DS',\n",
       " '2DSXL',\n",
       " '3DS',\n",
       " '3DSXL',\n",
       " 'DS',\n",
       " 'DS Lite',\n",
       " 'DSi',\n",
       " 'DSi XL',\n",
       " 'Gamecube',\n",
       " 'Lite',\n",
       " 'OLED',\n",
       " 'Standard',\n",
       " 'Wii',\n",
       " 'Wii U'}"
      ]
     },
     "execution_count": 5,
     "metadata": {},
     "output_type": "execute_result"
    }
   ],
   "source": [
    "set(hardware[\"Group\"])"
   ]
  },
  {
   "cell_type": "code",
   "execution_count": 6,
   "metadata": {},
   "outputs": [],
   "source": [
    "# map hardware to software group\n",
    "hardware_group_map = {\n",
    "    '2DS': '2DS/3DS',\n",
    "    '2DSXL': '2DS/3DS',\n",
    "    '3DS': '2DS/3DS',\n",
    "    '3DSXL': '2DS/3DS',\n",
    "    'DS Lite': 'DS',\n",
    "    'DSi': 'DS',\n",
    "    'DSi XL': 'DS',\n",
    "    'Lite': 'Switch',\n",
    "    'OLED': 'Switch',\n",
    "    'Standard': 'Switch',\n",
    "}\n",
    "\n",
    "software_group_map = {'3DS': '2DS/3DS'}\n",
    "\n",
    "software[\"Group\"] = software[\"Group\"].replace(software_group_map)\t\n",
    "software = software.groupby([\"Group\", \"Date\"]).sum().reset_index()\n",
    "\n",
    "hardware[\"Group\"] = hardware[\"Group\"].replace(hardware_group_map)\n",
    "hardware = hardware.groupby([\"Group\", \"Date\"]).sum().reset_index()"
   ]
  },
  {
   "cell_type": "code",
   "execution_count": 7,
   "metadata": {},
   "outputs": [
    {
     "data": {
      "text/plain": [
       "(      Group        Date    Qty\n",
       " 0   2DS/3DS  2011-03-31   9.43\n",
       " 1   2DS/3DS  2012-03-31  35.99\n",
       " 2   2DS/3DS  2013-03-31  49.61\n",
       " 3   2DS/3DS  2014-03-31  67.89\n",
       " 4   2DS/3DS  2015-03-31  62.75\n",
       " ..      ...         ...    ...\n",
       " 75    Wii U  2019-03-31   0.85\n",
       " 76    Wii U  2020-03-31   0.25\n",
       " 77    Wii U  2021-03-31   0.25\n",
       " 78    Wii U  2022-03-31   0.13\n",
       " 79    Wii U  2023-03-31   0.12\n",
       " \n",
       " [80 rows x 3 columns],\n",
       "       Group        Date    Qty\n",
       " 0   2DS/3DS  2011-03-31   3.61\n",
       " 1   2DS/3DS  2012-03-31  13.52\n",
       " 2   2DS/3DS  2013-03-31  13.96\n",
       " 3   2DS/3DS  2014-03-31  12.24\n",
       " 4   2DS/3DS  2015-03-31   8.74\n",
       " ..      ...         ...    ...\n",
       " 75    Wii U  2019-03-31   0.00\n",
       " 76    Wii U  2020-03-31   0.00\n",
       " 77    Wii U  2021-03-31   0.00\n",
       " 78    Wii U  2022-03-31   0.00\n",
       " 79    Wii U  2023-03-31   0.00\n",
       " \n",
       " [80 rows x 3 columns])"
      ]
     },
     "execution_count": 7,
     "metadata": {},
     "output_type": "execute_result"
    }
   ],
   "source": [
    "software, hardware"
   ]
  },
  {
   "cell_type": "code",
   "execution_count": 8,
   "metadata": {},
   "outputs": [
    {
     "data": {
      "text/html": [
       "<div>\n",
       "<style scoped>\n",
       "    .dataframe tbody tr th:only-of-type {\n",
       "        vertical-align: middle;\n",
       "    }\n",
       "\n",
       "    .dataframe tbody tr th {\n",
       "        vertical-align: top;\n",
       "    }\n",
       "\n",
       "    .dataframe thead th {\n",
       "        text-align: right;\n",
       "    }\n",
       "</style>\n",
       "<table border=\"1\" class=\"dataframe\">\n",
       "  <thead>\n",
       "    <tr style=\"text-align: right;\">\n",
       "      <th></th>\n",
       "      <th>Group</th>\n",
       "      <th>Date</th>\n",
       "      <th>Qty_software</th>\n",
       "      <th>Qty_hardware</th>\n",
       "    </tr>\n",
       "  </thead>\n",
       "  <tbody>\n",
       "    <tr>\n",
       "      <th>0</th>\n",
       "      <td>2DS/3DS</td>\n",
       "      <td>2011-03-31</td>\n",
       "      <td>9.43</td>\n",
       "      <td>3.61</td>\n",
       "    </tr>\n",
       "    <tr>\n",
       "      <th>1</th>\n",
       "      <td>2DS/3DS</td>\n",
       "      <td>2012-03-31</td>\n",
       "      <td>35.99</td>\n",
       "      <td>13.52</td>\n",
       "    </tr>\n",
       "    <tr>\n",
       "      <th>2</th>\n",
       "      <td>2DS/3DS</td>\n",
       "      <td>2013-03-31</td>\n",
       "      <td>49.61</td>\n",
       "      <td>13.96</td>\n",
       "    </tr>\n",
       "    <tr>\n",
       "      <th>3</th>\n",
       "      <td>2DS/3DS</td>\n",
       "      <td>2014-03-31</td>\n",
       "      <td>67.89</td>\n",
       "      <td>12.24</td>\n",
       "    </tr>\n",
       "    <tr>\n",
       "      <th>4</th>\n",
       "      <td>2DS/3DS</td>\n",
       "      <td>2015-03-31</td>\n",
       "      <td>62.75</td>\n",
       "      <td>8.74</td>\n",
       "    </tr>\n",
       "    <tr>\n",
       "      <th>...</th>\n",
       "      <td>...</td>\n",
       "      <td>...</td>\n",
       "      <td>...</td>\n",
       "      <td>...</td>\n",
       "    </tr>\n",
       "    <tr>\n",
       "      <th>75</th>\n",
       "      <td>Wii U</td>\n",
       "      <td>2019-03-31</td>\n",
       "      <td>0.85</td>\n",
       "      <td>0.00</td>\n",
       "    </tr>\n",
       "    <tr>\n",
       "      <th>76</th>\n",
       "      <td>Wii U</td>\n",
       "      <td>2020-03-31</td>\n",
       "      <td>0.25</td>\n",
       "      <td>0.00</td>\n",
       "    </tr>\n",
       "    <tr>\n",
       "      <th>77</th>\n",
       "      <td>Wii U</td>\n",
       "      <td>2021-03-31</td>\n",
       "      <td>0.25</td>\n",
       "      <td>0.00</td>\n",
       "    </tr>\n",
       "    <tr>\n",
       "      <th>78</th>\n",
       "      <td>Wii U</td>\n",
       "      <td>2022-03-31</td>\n",
       "      <td>0.13</td>\n",
       "      <td>0.00</td>\n",
       "    </tr>\n",
       "    <tr>\n",
       "      <th>79</th>\n",
       "      <td>Wii U</td>\n",
       "      <td>2023-03-31</td>\n",
       "      <td>0.12</td>\n",
       "      <td>0.00</td>\n",
       "    </tr>\n",
       "  </tbody>\n",
       "</table>\n",
       "<p>80 rows × 4 columns</p>\n",
       "</div>"
      ],
      "text/plain": [
       "      Group        Date  Qty_software  Qty_hardware\n",
       "0   2DS/3DS  2011-03-31          9.43          3.61\n",
       "1   2DS/3DS  2012-03-31         35.99         13.52\n",
       "2   2DS/3DS  2013-03-31         49.61         13.96\n",
       "3   2DS/3DS  2014-03-31         67.89         12.24\n",
       "4   2DS/3DS  2015-03-31         62.75          8.74\n",
       "..      ...         ...           ...           ...\n",
       "75    Wii U  2019-03-31          0.85          0.00\n",
       "76    Wii U  2020-03-31          0.25          0.00\n",
       "77    Wii U  2021-03-31          0.25          0.00\n",
       "78    Wii U  2022-03-31          0.13          0.00\n",
       "79    Wii U  2023-03-31          0.12          0.00\n",
       "\n",
       "[80 rows x 4 columns]"
      ]
     },
     "execution_count": 8,
     "metadata": {},
     "output_type": "execute_result"
    }
   ],
   "source": [
    "# join on Group and Date\n",
    "df = pd.merge(software, hardware, on=[\"Group\", \"Date\"], how=\"outer\", suffixes=(\"_software\", \"_hardware\")).sort_values([\"Group\", \"Date\"])\n",
    "df"
   ]
  },
  {
   "cell_type": "code",
   "execution_count": 35,
   "metadata": {},
   "outputs": [
    {
     "data": {
      "text/html": [
       "\n",
       "<style>\n",
       "  #altair-viz-82452c9c98c54226b933121bf56feb8c.vega-embed {\n",
       "    width: 100%;\n",
       "    display: flex;\n",
       "  }\n",
       "\n",
       "  #altair-viz-82452c9c98c54226b933121bf56feb8c.vega-embed details,\n",
       "  #altair-viz-82452c9c98c54226b933121bf56feb8c.vega-embed details summary {\n",
       "    position: relative;\n",
       "  }\n",
       "</style>\n",
       "<div id=\"altair-viz-82452c9c98c54226b933121bf56feb8c\"></div>\n",
       "<script type=\"text/javascript\">\n",
       "  var VEGA_DEBUG = (typeof VEGA_DEBUG == \"undefined\") ? {} : VEGA_DEBUG;\n",
       "  (function(spec, embedOpt){\n",
       "    let outputDiv = document.currentScript.previousElementSibling;\n",
       "    if (outputDiv.id !== \"altair-viz-82452c9c98c54226b933121bf56feb8c\") {\n",
       "      outputDiv = document.getElementById(\"altair-viz-82452c9c98c54226b933121bf56feb8c\");\n",
       "    }\n",
       "    const paths = {\n",
       "      \"vega\": \"https://cdn.jsdelivr.net/npm/vega@5?noext\",\n",
       "      \"vega-lib\": \"https://cdn.jsdelivr.net/npm/vega-lib?noext\",\n",
       "      \"vega-lite\": \"https://cdn.jsdelivr.net/npm/vega-lite@5.8.0?noext\",\n",
       "      \"vega-embed\": \"https://cdn.jsdelivr.net/npm/vega-embed@6?noext\",\n",
       "    };\n",
       "\n",
       "    function maybeLoadScript(lib, version) {\n",
       "      var key = `${lib.replace(\"-\", \"\")}_version`;\n",
       "      return (VEGA_DEBUG[key] == version) ?\n",
       "        Promise.resolve(paths[lib]) :\n",
       "        new Promise(function(resolve, reject) {\n",
       "          var s = document.createElement('script');\n",
       "          document.getElementsByTagName(\"head\")[0].appendChild(s);\n",
       "          s.async = true;\n",
       "          s.onload = () => {\n",
       "            VEGA_DEBUG[key] = version;\n",
       "            return resolve(paths[lib]);\n",
       "          };\n",
       "          s.onerror = () => reject(`Error loading script: ${paths[lib]}`);\n",
       "          s.src = paths[lib];\n",
       "        });\n",
       "    }\n",
       "\n",
       "    function showError(err) {\n",
       "      outputDiv.innerHTML = `<div class=\"error\" style=\"color:red;\">${err}</div>`;\n",
       "      throw err;\n",
       "    }\n",
       "\n",
       "    function displayChart(vegaEmbed) {\n",
       "      vegaEmbed(outputDiv, spec, embedOpt)\n",
       "        .catch(err => showError(`Javascript Error: ${err.message}<br>This usually means there's a typo in your chart specification. See the javascript console for the full traceback.`));\n",
       "    }\n",
       "\n",
       "    if(typeof define === \"function\" && define.amd) {\n",
       "      requirejs.config({paths});\n",
       "      require([\"vega-embed\"], displayChart, err => showError(`Error loading script: ${err.message}`));\n",
       "    } else {\n",
       "      maybeLoadScript(\"vega\", \"5\")\n",
       "        .then(() => maybeLoadScript(\"vega-lite\", \"5.8.0\"))\n",
       "        .then(() => maybeLoadScript(\"vega-embed\", \"6\"))\n",
       "        .catch(showError)\n",
       "        .then(() => displayChart(vegaEmbed));\n",
       "    }\n",
       "  })({\"config\": {\"view\": {\"continuousWidth\": 300, \"continuousHeight\": 300}}, \"layer\": [{\"mark\": {\"type\": \"line\"}, \"encoding\": {\"color\": {\"field\": \"Group\", \"legend\": {\"labelFontSize\": 12, \"title\": \"Product Group\"}, \"scale\": {\"scheme\": \"tableau20\"}, \"type\": \"nominal\"}, \"opacity\": {\"condition\": {\"param\": \"param_22\", \"value\": 1}, \"value\": 0.2}, \"x\": {\"axis\": {\"title\": null}, \"field\": \"Date\", \"type\": \"temporal\"}, \"y\": {\"field\": \"Qty_hardware\", \"title\": \"Hardware Units (Millions)\", \"type\": \"quantitative\"}}, \"name\": \"view_8\"}, {\"mark\": {\"type\": \"line\", \"strokeDash\": [5, 5]}, \"encoding\": {\"color\": {\"field\": \"Group\", \"legend\": {\"labelFontSize\": 12, \"title\": \"Product Group\"}, \"scale\": {\"scheme\": \"tableau20\"}, \"type\": \"nominal\"}, \"opacity\": {\"condition\": {\"param\": \"param_22\", \"value\": 1}, \"value\": 0.2}, \"x\": {\"axis\": {\"title\": null}, \"field\": \"Date\", \"type\": \"temporal\"}, \"y\": {\"field\": \"Qty_software\", \"title\": \"Software Units (Millions)\", \"type\": \"quantitative\"}}}], \"data\": {\"name\": \"data-c5a4ed11de904112bb13015a4b2d7ddd\"}, \"height\": 550, \"params\": [{\"name\": \"param_22\", \"select\": {\"type\": \"point\", \"fields\": [\"Group\"]}, \"bind\": \"legend\", \"views\": [\"view_8\"]}], \"resolve\": {\"scale\": {\"y\": \"independent\"}}, \"title\": \"Nintendo Hardware and Software Sales (Millions)\", \"width\": 600, \"$schema\": \"https://vega.github.io/schema/vega-lite/v5.8.0.json\", \"datasets\": {\"data-c5a4ed11de904112bb13015a4b2d7ddd\": [{\"Group\": \"2DS/3DS\", \"Date\": \"2011-03-31\", \"Qty_software\": 9.43, \"Qty_hardware\": 3.61}, {\"Group\": \"2DS/3DS\", \"Date\": \"2012-03-31\", \"Qty_software\": 35.99, \"Qty_hardware\": 13.52}, {\"Group\": \"2DS/3DS\", \"Date\": \"2013-03-31\", \"Qty_software\": 49.61, \"Qty_hardware\": 13.96}, {\"Group\": \"2DS/3DS\", \"Date\": \"2014-03-31\", \"Qty_software\": 67.89, \"Qty_hardware\": 12.24}, {\"Group\": \"2DS/3DS\", \"Date\": \"2015-03-31\", \"Qty_software\": 62.75, \"Qty_hardware\": 8.74}, {\"Group\": \"2DS/3DS\", \"Date\": \"2016-03-31\", \"Qty_software\": 48.52, \"Qty_hardware\": 6.789999999999999}, {\"Group\": \"2DS/3DS\", \"Date\": \"2017-03-31\", \"Qty_software\": 55.09, \"Qty_hardware\": 7.28}, {\"Group\": \"2DS/3DS\", \"Date\": \"2018-03-31\", \"Qty_software\": 35.64, \"Qty_hardware\": 6.41}, {\"Group\": \"2DS/3DS\", \"Date\": \"2019-03-31\", \"Qty_software\": 13.220000000000002, \"Qty_hardware\": 2.5399999999999996}, {\"Group\": \"2DS/3DS\", \"Date\": \"2020-03-31\", \"Qty_software\": 4.99, \"Qty_hardware\": 0.69}, {\"Group\": \"2DS/3DS\", \"Date\": \"2021-03-31\", \"Qty_software\": 3.39, \"Qty_hardware\": 0.17}, {\"Group\": \"2DS/3DS\", \"Date\": \"2022-03-31\", \"Qty_software\": 2.0700000000000003, \"Qty_hardware\": 0.0}, {\"Group\": \"2DS/3DS\", \"Date\": \"2023-03-31\", \"Qty_software\": 2.83, \"Qty_hardware\": 0.0}, {\"Group\": \"DS\", \"Date\": \"2005-03-31\", \"Qty_software\": 10.49, \"Qty_hardware\": 5.260000000000001}, {\"Group\": \"DS\", \"Date\": \"2006-03-31\", \"Qty_software\": 49.95, \"Qty_hardware\": 11.46}, {\"Group\": \"DS\", \"Date\": \"2007-03-31\", \"Qty_software\": 123.55, \"Qty_hardware\": 23.56}, {\"Group\": \"DS\", \"Date\": \"2008-03-31\", \"Qty_software\": 185.62, \"Qty_hardware\": 30.009999999999998}, {\"Group\": \"DS\", \"Date\": \"2009-03-31\", \"Qty_software\": 197.31, \"Qty_hardware\": 31.190000000000005}, {\"Group\": \"DS\", \"Date\": \"2010-03-31\", \"Qty_software\": 151.59, \"Qty_hardware\": 27.130000000000003}, {\"Group\": \"DS\", \"Date\": \"2011-03-31\", \"Qty_software\": 120.97, \"Qty_hardware\": 17.51}, {\"Group\": \"DS\", \"Date\": \"2012-03-31\", \"Qty_software\": 60.830000000000005, \"Qty_hardware\": 5.09}, {\"Group\": \"DS\", \"Date\": \"2013-03-31\", \"Qty_software\": 33.37, \"Qty_hardware\": 2.3600000000000003}, {\"Group\": \"DS\", \"Date\": \"2014-03-31\", \"Qty_software\": 10.3, \"Qty_hardware\": 0.12}, {\"Group\": \"DS\", \"Date\": \"2015-03-31\", \"Qty_software\": 2.99, \"Qty_hardware\": 0.02}, {\"Group\": \"DS\", \"Date\": \"2016-03-31\", \"Qty_software\": 1.26, \"Qty_hardware\": 0.01}, {\"Group\": \"DS\", \"Date\": \"2017-03-31\", \"Qty_software\": 0.3199999999999999, \"Qty_hardware\": 0.0}, {\"Group\": \"DS\", \"Date\": \"2018-03-31\", \"Qty_software\": 0.05, \"Qty_hardware\": 0.0}, {\"Group\": \"DS\", \"Date\": \"2019-03-31\", \"Qty_software\": 0.03, \"Qty_hardware\": 0.0}, {\"Group\": \"DS\", \"Date\": \"2020-03-31\", \"Qty_software\": 0.05, \"Qty_hardware\": 0.0}, {\"Group\": \"DS\", \"Date\": \"2021-03-31\", \"Qty_software\": 0.05, \"Qty_hardware\": 0.0}, {\"Group\": \"DS\", \"Date\": \"2022-03-31\", \"Qty_software\": 0.03, \"Qty_hardware\": 0.0}, {\"Group\": \"Gamecube\", \"Date\": \"2002-03-31\", \"Qty_software\": 14.36, \"Qty_hardware\": 3.8}, {\"Group\": \"Gamecube\", \"Date\": \"2003-03-31\", \"Qty_software\": 46.14, \"Qty_hardware\": 5.75}, {\"Group\": \"Gamecube\", \"Date\": \"2004-03-31\", \"Qty_software\": 47.370000000000005, \"Qty_hardware\": 5.03}, {\"Group\": \"Gamecube\", \"Date\": \"2005-03-31\", \"Qty_software\": 48.42999999999999, \"Qty_hardware\": 3.93}, {\"Group\": \"Gamecube\", \"Date\": \"2006-03-31\", \"Qty_software\": 32.78, \"Qty_hardware\": 2.36}, {\"Group\": \"Gamecube\", \"Date\": \"2007-03-31\", \"Qty_software\": 16.8, \"Qty_hardware\": 0.73}, {\"Group\": \"Gamecube\", \"Date\": \"2008-03-31\", \"Qty_software\": 2.59, \"Qty_hardware\": 0.16}, {\"Group\": \"Gamecube\", \"Date\": \"2009-03-31\", \"Qty_software\": 0.09, \"Qty_hardware\": 0.0}, {\"Group\": \"Switch\", \"Date\": \"2017-03-31\", \"Qty_software\": 5.46, \"Qty_hardware\": 2.74}, {\"Group\": \"Switch\", \"Date\": \"2018-03-31\", \"Qty_software\": 63.510000000000005, \"Qty_hardware\": 15.05}, {\"Group\": \"Switch\", \"Date\": \"2019-03-31\", \"Qty_software\": 118.55, \"Qty_hardware\": 16.970000000000002}, {\"Group\": \"Switch\", \"Date\": \"2020-03-31\", \"Qty_software\": 168.72, \"Qty_hardware\": 21.04}, {\"Group\": \"Switch\", \"Date\": \"2021-03-31\", \"Qty_software\": 230.88, \"Qty_hardware\": 28.830000000000002}, {\"Group\": \"Switch\", \"Date\": \"2022-03-31\", \"Qty_software\": 235.07, \"Qty_hardware\": 23.049999999999997}, {\"Group\": \"Switch\", \"Date\": \"2023-03-31\", \"Qty_software\": 213.97, \"Qty_hardware\": 17.970000000000002}, {\"Group\": \"Wii\", \"Date\": \"2007-03-31\", \"Qty_software\": 28.84, \"Qty_hardware\": 5.84}, {\"Group\": \"Wii\", \"Date\": \"2008-03-31\", \"Qty_software\": 119.61, \"Qty_hardware\": 18.61}, {\"Group\": \"Wii\", \"Date\": \"2009-03-31\", \"Qty_software\": 204.58, \"Qty_hardware\": 25.950000000000003}, {\"Group\": \"Wii\", \"Date\": \"2010-03-31\", \"Qty_software\": 191.81, \"Qty_hardware\": 20.54}, {\"Group\": \"Wii\", \"Date\": \"2011-03-31\", \"Qty_software\": 171.27, \"Qty_hardware\": 15.09}, {\"Group\": \"Wii\", \"Date\": \"2012-03-31\", \"Qty_software\": 102.37, \"Qty_hardware\": 9.84}, {\"Group\": \"Wii\", \"Date\": \"2013-03-31\", \"Qty_software\": 50.6, \"Qty_hardware\": 3.9899999999999993}, {\"Group\": \"Wii\", \"Date\": \"2014-03-31\", \"Qty_software\": 26.17, \"Qty_hardware\": 1.23}, {\"Group\": \"Wii\", \"Date\": \"2015-03-31\", \"Qty_software\": 11.74, \"Qty_hardware\": 0.45}, {\"Group\": \"Wii\", \"Date\": \"2016-03-31\", \"Qty_software\": 7.33, \"Qty_hardware\": 0.11}, {\"Group\": \"Wii\", \"Date\": \"2017-03-31\", \"Qty_software\": 3.56, \"Qty_hardware\": 0.0}, {\"Group\": \"Wii\", \"Date\": \"2018-03-31\", \"Qty_software\": 1.95, \"Qty_hardware\": 0.0}, {\"Group\": \"Wii\", \"Date\": \"2019-03-31\", \"Qty_software\": 1.01, \"Qty_hardware\": 0.0}, {\"Group\": \"Wii\", \"Date\": \"2020-03-31\", \"Qty_software\": 0.8800000000000001, \"Qty_hardware\": 0.0}, {\"Group\": \"Wii\", \"Date\": \"2021-03-31\", \"Qty_software\": 0.16, \"Qty_hardware\": 0.0}, {\"Group\": \"Wii\", \"Date\": \"2022-03-31\", \"Qty_software\": 0.0, \"Qty_hardware\": 0.0}, {\"Group\": \"Wii\", \"Date\": \"2023-03-31\", \"Qty_software\": 0.0, \"Qty_hardware\": 0.0}, {\"Group\": \"Wii U\", \"Date\": \"2007-03-31\", \"Qty_software\": 0.0, \"Qty_hardware\": 0.0}, {\"Group\": \"Wii U\", \"Date\": \"2008-03-31\", \"Qty_software\": 0.0, \"Qty_hardware\": 0.0}, {\"Group\": \"Wii U\", \"Date\": \"2009-03-31\", \"Qty_software\": 0.0, \"Qty_hardware\": 0.0}, {\"Group\": \"Wii U\", \"Date\": \"2010-03-31\", \"Qty_software\": 0.0, \"Qty_hardware\": 0.0}, {\"Group\": \"Wii U\", \"Date\": \"2011-03-31\", \"Qty_software\": 0.0, \"Qty_hardware\": 0.0}, {\"Group\": \"Wii U\", \"Date\": \"2012-03-31\", \"Qty_software\": 0.0, \"Qty_hardware\": 0.0}, {\"Group\": \"Wii U\", \"Date\": \"2013-03-31\", \"Qty_software\": 13.41, \"Qty_hardware\": 3.45}, {\"Group\": \"Wii U\", \"Date\": \"2014-03-31\", \"Qty_software\": 18.860000000000003, \"Qty_hardware\": 2.7300000000000004}, {\"Group\": \"Wii U\", \"Date\": \"2015-03-31\", \"Qty_software\": 24.4, \"Qty_hardware\": 3.38}, {\"Group\": \"Wii U\", \"Date\": \"2016-03-31\", \"Qty_software\": 27.37, \"Qty_hardware\": 3.25}, {\"Group\": \"Wii U\", \"Date\": \"2017-03-31\", \"Qty_software\": 14.8, \"Qty_hardware\": 0.75}, {\"Group\": \"Wii U\", \"Date\": \"2018-03-31\", \"Qty_software\": 3.16, \"Qty_hardware\": 0.0}, {\"Group\": \"Wii U\", \"Date\": \"2019-03-31\", \"Qty_software\": 0.85, \"Qty_hardware\": 0.0}, {\"Group\": \"Wii U\", \"Date\": \"2020-03-31\", \"Qty_software\": 0.25, \"Qty_hardware\": 0.0}, {\"Group\": \"Wii U\", \"Date\": \"2021-03-31\", \"Qty_software\": 0.25, \"Qty_hardware\": 0.0}, {\"Group\": \"Wii U\", \"Date\": \"2022-03-31\", \"Qty_software\": 0.13, \"Qty_hardware\": 0.0}, {\"Group\": \"Wii U\", \"Date\": \"2023-03-31\", \"Qty_software\": 0.12, \"Qty_hardware\": 0.0}]}}, {\"mode\": \"vega-lite\"});\n",
       "</script>"
      ],
      "text/plain": [
       "alt.LayerChart(...)"
      ]
     },
     "execution_count": 35,
     "metadata": {},
     "output_type": "execute_result"
    }
   ],
   "source": [
    "selection = alt.selection_point(fields=['Group'], bind='legend')\n",
    "opacity = alt.condition(selection, alt.value(1), alt.value(0.2))\n",
    "\n",
    "\n",
    "hw_chart = alt.Chart(df).mark_line().encode(\n",
    "    x=alt.X('Date:T').axis(title=None),\n",
    "    y=alt.Y('Qty_hardware:Q').title('Hardware Units (Millions)'),\n",
    "    color=alt.Color('Group:N', legend=alt.Legend(title=\"Product Group\", labelFontSize=12), scale=alt.Scale(scheme='tableau20')),\n",
    "    opacity=opacity\n",
    ")\n",
    "\n",
    "sw_chart = alt.Chart(df).mark_line(strokeDash=[5,5]).encode(\n",
    "    x=alt.X('Date:T').axis(title=None),\n",
    "    y=alt.Y('Qty_software:Q').title('Software Units (Millions)'),\n",
    "    color=alt.Color('Group:N', legend=alt.Legend(title=\"Product Group\", labelFontSize=12), scale=alt.Scale(scheme='tableau20')),\n",
    "    opacity=opacity\n",
    ")\n",
    "\n",
    "chart = hw_chart + sw_chart\n",
    "chart = chart.add_params(selection)\n",
    "chart = chart.resolve_scale(y='independent')\n",
    "chart = chart.properties(title=\"Nintendo Hardware and Software Sales (Millions)\", width=600, height=550)\n",
    "chart\n",
    "# alt.layer(hw_chart, sw_chart)"
   ]
  },
  {
   "cell_type": "code",
   "execution_count": 36,
   "metadata": {},
   "outputs": [],
   "source": [
    "chart.save(\"../figs/Nintendo_Software_by_models.png\")"
   ]
  },
  {
   "cell_type": "code",
   "execution_count": null,
   "metadata": {},
   "outputs": [],
   "source": []
  }
 ],
 "metadata": {
  "kernelspec": {
   "display_name": "consoles-data-analysis-DAzJVipD-py3.11",
   "language": "python",
   "name": "python3"
  },
  "language_info": {
   "codemirror_mode": {
    "name": "ipython",
    "version": 3
   },
   "file_extension": ".py",
   "mimetype": "text/x-python",
   "name": "python",
   "nbconvert_exporter": "python",
   "pygments_lexer": "ipython3",
   "version": "3.11.1"
  },
  "orig_nbformat": 4
 },
 "nbformat": 4,
 "nbformat_minor": 2
}
